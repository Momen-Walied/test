{
 "cells": [
  {
   "cell_type": "markdown",
   "id": "7a9ef4c0-d58b-4df0-9359-5faa7a6d60b0",
   "metadata": {},
   "source": [
    "## Neural Network from Scrach Code "
   ]
  },
  {
   "cell_type": "code",
   "execution_count": 1,
   "id": "c3fe32d7-5b3b-4614-8474-baf6ecb986a3",
   "metadata": {},
   "outputs": [],
   "source": [
    "import numpy as np"
   ]
  },
  {
   "cell_type": "code",
   "execution_count": 2,
   "id": "8221e1d3-c0fc-48aa-925e-2dac761a5b02",
   "metadata": {},
   "outputs": [],
   "source": [
    "def sigmoid (x):\n",
    "    return 1.0/(1+ np.exp(-x))"
   ]
  },
  {
   "cell_type": "code",
   "execution_count": 3,
   "id": "061c9265-4672-4f7a-aebf-6c963c0408a7",
   "metadata": {},
   "outputs": [],
   "source": [
    "def sigmoid_derivative(x):\n",
    "    return x *(1.0-x)"
   ]
  },
  {
   "cell_type": "code",
   "execution_count": 8,
   "id": "e5499693-202a-4b3f-aed5-0797ad60a290",
   "metadata": {},
   "outputs": [],
   "source": [
    "class NeuralNetwork:\n",
    "    def __init__(self, x, y):\n",
    "        self.input = x\n",
    "        #print(\"inputs \\n\", self.input)\n",
    "        #print () # x*theta    x = 4*3\n",
    "        self.weights1 = np.random.rand(self.input.shape[1],4) # 0 : 1 ==> [0.5,0.88,0.25,0.5]\n",
    "        #print('weights1 \\n', self.weights1)\n",
    "        #print()\n",
    "        self.weights2 = np.random.rand(4,1)\n",
    "        #print('weights2 \\n',self.weights2)\n",
    "        #print()\n",
    "        self.y = y\n",
    "        #print('y  \\n', self.y)\n",
    "        #print ()\n",
    "        self.output = np.zeros (self.y.shape) # h(x) ==> predicted value \n",
    "        # print('output In', self.output)\n",
    "        # print ()\n",
    "    \n",
    "    def feedfforward(self):\n",
    "        self.layer1 = sigmoid(np.dot(self.input,self.weights1))\n",
    "        #print(' layer 1 \\n',self.layer1)\n",
    "        #print()\n",
    "        self.output= sigmoid(np.dot(self.layer1, self.weights2))\n",
    "        #print( 'output \\n',self.output)\n",
    "        #print()\n",
    "    def backprop(self):\n",
    "       # application of the chain rule to find derivative of the Loss function with\n",
    "        d_weights2 = np.dot(self.layer1.T,(2*(self.y - self.output)*sigmoid_derivative(self.output)))\n",
    "        #print('d_weights2 \\n', d_weights2)\n",
    "        #print()\n",
    "        d_weights1= np.dot(self.input.T,\n",
    "                               (np.dot(d_weights2,\n",
    "                                       self.weights2.T)*sigmoid_derivative (self. layer1)))\n",
    "        # print('d weigh ts1 \\n',d_weights1)\n",
    "        # print()\n",
    "    #update the weights with the derivative (slope) of the Loss function\n",
    "        self.weights1 += d_weights1\n",
    "        self.weights2 += d_weights2"
   ]
  },
  {
   "cell_type": "code",
   "execution_count": 9,
   "id": "b15d92f5-b0aa-47a0-9456-f5e3e909d8f3",
   "metadata": {},
   "outputs": [],
   "source": [
    "X = np.array( [[0,0,1],\n",
    "              [0,1,1],\n",
    "              [1,0,1],\n",
    "              [1,1,1]])\n",
    "\n",
    "y = np.array([[0],\n",
    "            [1],\n",
    "            [1],\n",
    "            [0]])"
   ]
  },
  {
   "cell_type": "code",
   "execution_count": 10,
   "id": "79dbb80d-2103-4476-bdf1-0a70876c7964",
   "metadata": {},
   "outputs": [
    {
     "name": "stdout",
     "output_type": "stream",
     "text": [
      "d_weights2 \n",
      " [[-0.32771741 -0.24218813 -0.30246798 -0.29502449]\n",
      " [-0.3844833  -0.28700029 -0.35450179 -0.34470548]\n",
      " [-0.36433094 -0.27346112 -0.33631698 -0.32572836]\n",
      " [-0.37229088 -0.27972994 -0.34178065 -0.3329499 ]]\n",
      "\n"
     ]
    },
    {
     "ename": "ValueError",
     "evalue": "non-broadcastable output operand with shape (4,1) doesn't match the broadcast shape (4,4)",
     "output_type": "error",
     "traceback": [
      "\u001b[0;31m---------------------------------------------------------------------------\u001b[0m",
      "\u001b[0;31mValueError\u001b[0m                                Traceback (most recent call last)",
      "Cell \u001b[0;32mIn[10], line 5\u001b[0m\n\u001b[1;32m      3\u001b[0m \u001b[38;5;28;01mfor\u001b[39;00m i \u001b[38;5;129;01min\u001b[39;00m \u001b[38;5;28mrange\u001b[39m(\u001b[38;5;241m100\u001b[39m):\n\u001b[1;32m      4\u001b[0m     nn\u001b[38;5;241m.\u001b[39mfeedfforward()\n\u001b[0;32m----> 5\u001b[0m     \u001b[43mnn\u001b[49m\u001b[38;5;241;43m.\u001b[39;49m\u001b[43mbackprop\u001b[49m\u001b[43m(\u001b[49m\u001b[43m)\u001b[49m\n\u001b[1;32m      6\u001b[0m     \u001b[38;5;66;03m# print('---------------------------')\u001b[39;00m\n\u001b[1;32m      7\u001b[0m \u001b[38;5;28mprint\u001b[39m(nn\u001b[38;5;241m.\u001b[39moutput)\n",
      "Cell \u001b[0;32mIn[8], line 38\u001b[0m, in \u001b[0;36mNeuralNetwork.backprop\u001b[0;34m(self)\u001b[0m\n\u001b[1;32m     34\u001b[0m     \u001b[38;5;66;03m# print('d weigh ts1 \\n',d_weights1)\u001b[39;00m\n\u001b[1;32m     35\u001b[0m     \u001b[38;5;66;03m# print()\u001b[39;00m\n\u001b[1;32m     36\u001b[0m \u001b[38;5;66;03m#update the weights with the derivative (slope) of the Loss function\u001b[39;00m\n\u001b[1;32m     37\u001b[0m     \u001b[38;5;28mself\u001b[39m\u001b[38;5;241m.\u001b[39mweights1 \u001b[38;5;241m+\u001b[39m\u001b[38;5;241m=\u001b[39m d_weights1\n\u001b[0;32m---> 38\u001b[0m     \u001b[38;5;28;43mself\u001b[39;49m\u001b[38;5;241;43m.\u001b[39;49m\u001b[43mweights2\u001b[49m\u001b[43m \u001b[49m\u001b[38;5;241;43m+\u001b[39;49m\u001b[38;5;241;43m=\u001b[39;49m\u001b[43m \u001b[49m\u001b[43md_weights2\u001b[49m\n",
      "\u001b[0;31mValueError\u001b[0m: non-broadcastable output operand with shape (4,1) doesn't match the broadcast shape (4,4)"
     ]
    }
   ],
   "source": [
    "nn = NeuralNetwork(X,y)\n",
    "\n",
    "for i in range(100):\n",
    "    nn.feedfforward()\n",
    "    nn.backprop()\n",
    "    # print('---------------------------')\n",
    "print(nn.output)"
   ]
  },
  {
   "cell_type": "code",
   "execution_count": null,
   "id": "fb7d9505-3962-4066-987e-b13957f47733",
   "metadata": {},
   "outputs": [],
   "source": []
  }
 ],
 "metadata": {
  "kernelspec": {
   "display_name": "base",
   "language": "python",
   "name": "python3"
  },
  "language_info": {
   "codemirror_mode": {
    "name": "ipython",
    "version": 3
   },
   "file_extension": ".py",
   "mimetype": "text/x-python",
   "name": "python",
   "nbconvert_exporter": "python",
   "pygments_lexer": "ipython3",
   "version": "3.12.2"
  }
 },
 "nbformat": 4,
 "nbformat_minor": 5
}
